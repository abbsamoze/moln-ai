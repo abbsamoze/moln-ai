{
 "cells": [
  {
   "cell_type": "markdown",
   "metadata": {},
   "source": [
    "Train Model"
   ]
  },
  {
   "cell_type": "code",
   "execution_count": 59,
   "metadata": {},
   "outputs": [],
   "source": [
    "# Importing all necessary libraries\n",
    "from keras.preprocessing.image import ImageDataGenerator\n",
    "from keras.models import Sequential\n",
    "from keras.layers import Conv2D, MaxPooling2D\n",
    "from keras.layers import Activation, Dropout, Flatten, Dense\n",
    "from keras import backend as K\n",
    "\n",
    "img_width, img_height = 224, 224\n"
   ]
  },
  {
   "cell_type": "code",
   "execution_count": 60,
   "metadata": {},
   "outputs": [],
   "source": [
    "train_data_dir = 'data/Train'\n",
    "validation_data_dir = 'data/Predict'\n",
    "nb_train_samples = 1910\n",
    "nb_validation_samples = 430\n",
    "epochs = 20\n",
    "batch_size = 16\n"
   ]
  },
  {
   "cell_type": "markdown",
   "metadata": {},
   "source": [
    "Check format of img"
   ]
  },
  {
   "cell_type": "code",
   "execution_count": 61,
   "metadata": {},
   "outputs": [],
   "source": [
    "if K.image_data_format() == 'channels_first':\n",
    "\tinput_shape = (3, img_width, img_height)\n",
    "else:\n",
    "\tinput_shape = (img_width, img_height, 3)"
   ]
  },
  {
   "cell_type": "markdown",
   "metadata": {},
   "source": [
    "RGB Channel"
   ]
  },
  {
   "cell_type": "code",
   "execution_count": 62,
   "metadata": {},
   "outputs": [],
   "source": [
    "model = Sequential()\n",
    "model.add(Conv2D(32, (2, 2), input_shape=input_shape))\n",
    "model.add(Activation('relu'))\n",
    "model.add(MaxPooling2D(pool_size=(2, 2)))\n",
    "\n",
    "model.add(Conv2D(32, (2, 2)))\n",
    "model.add(Activation('relu'))\n",
    "model.add(MaxPooling2D(pool_size=(2, 2)))\n",
    "\n",
    "model.add(Conv2D(64, (2, 2)))\n",
    "model.add(Activation('relu'))\n",
    "model.add(MaxPooling2D(pool_size=(2, 2)))\n",
    "\n",
    "model.add(Flatten())\n",
    "model.add(Dense(64))\n",
    "model.add(Activation('relu'))\n",
    "model.add(Dropout(0.5))\n",
    "model.add(Dense(1))\n",
    "model.add(Activation('sigmoid'))\n"
   ]
  },
  {
   "cell_type": "markdown",
   "metadata": {},
   "source": [
    "Compile Function"
   ]
  },
  {
   "cell_type": "code",
   "execution_count": 63,
   "metadata": {},
   "outputs": [],
   "source": [
    "model.compile(loss='binary_crossentropy',\n",
    "\t\t\toptimizer='rmsprop',\n",
    "\t\t\tmetrics=['accuracy'])\n"
   ]
  },
  {
   "cell_type": "markdown",
   "metadata": {},
   "source": [
    "DataGenerator"
   ]
  },
  {
   "cell_type": "code",
   "execution_count": 64,
   "metadata": {},
   "outputs": [
    {
     "name": "stdout",
     "output_type": "stream",
     "text": [
      "Found 1910 images belonging to 10 classes.\n",
      "Found 430 images belonging to 10 classes.\n"
     ]
    },
    {
     "name": "stderr",
     "output_type": "stream",
     "text": [
      "C:\\Users\\s0ludjaa\\AppData\\Local\\Temp/ipykernel_14624/3762154218.py:21: UserWarning: `Model.fit_generator` is deprecated and will be removed in a future version. Please use `Model.fit`, which supports generators.\n",
      "  model.fit_generator(\n"
     ]
    },
    {
     "name": "stdout",
     "output_type": "stream",
     "text": [
      "Epoch 1/20\n",
      "119/119 [==============================] - 116s 952ms/step - loss: -23916942.0000 - accuracy: 0.0882 - val_loss: -132801752.0000 - val_accuracy: 0.0409\n",
      "Epoch 2/20\n",
      "119/119 [==============================] - 82s 690ms/step - loss: -641019264.0000 - accuracy: 0.0887 - val_loss: -1867318784.0000 - val_accuracy: 0.0385\n",
      "Epoch 3/20\n",
      "119/119 [==============================] - 84s 702ms/step - loss: -4469889536.0000 - accuracy: 0.0892 - val_loss: -9995189248.0000 - val_accuracy: 0.0409\n",
      "Epoch 4/20\n",
      "119/119 [==============================] - 83s 696ms/step - loss: -16978116608.0000 - accuracy: 0.0882 - val_loss: -33257279488.0000 - val_accuracy: 0.0409\n",
      "Epoch 5/20\n",
      "119/119 [==============================] - 84s 704ms/step - loss: -48360415232.0000 - accuracy: 0.0887 - val_loss: -85870567424.0000 - val_accuracy: 0.0433\n",
      "Epoch 6/20\n",
      "119/119 [==============================] - 82s 687ms/step - loss: -116214554624.0000 - accuracy: 0.0898 - val_loss: -191862784000.0000 - val_accuracy: 0.0433\n",
      "Epoch 7/20\n",
      "119/119 [==============================] - 90s 758ms/step - loss: -239914991616.0000 - accuracy: 0.0887 - val_loss: -383052447744.0000 - val_accuracy: 0.0433\n",
      "Epoch 8/20\n",
      "119/119 [==============================] - 117s 980ms/step - loss: -453756026880.0000 - accuracy: 0.0871 - val_loss: -695421632512.0000 - val_accuracy: 0.0409\n",
      "Epoch 9/20\n",
      "119/119 [==============================] - 82s 688ms/step - loss: -795685158912.0000 - accuracy: 0.0882 - val_loss: -1189620613120.0000 - val_accuracy: 0.0433\n",
      "Epoch 10/20\n",
      "119/119 [==============================] - 82s 689ms/step - loss: -1328502145024.0000 - accuracy: 0.0898 - val_loss: -1935471411200.0000 - val_accuracy: 0.0433\n",
      "Epoch 11/20\n",
      "119/119 [==============================] - 82s 687ms/step - loss: -2072889262080.0000 - accuracy: 0.0887 - val_loss: -2990493925376.0000 - val_accuracy: 0.0433\n",
      "Epoch 12/20\n",
      "119/119 [==============================] - 83s 694ms/step - loss: -3203077505024.0000 - accuracy: 0.0887 - val_loss: -4521014067200.0000 - val_accuracy: 0.0433\n",
      "Epoch 13/20\n",
      "119/119 [==============================] - 83s 699ms/step - loss: -4759919525888.0000 - accuracy: 0.0898 - val_loss: -6544138698752.0000 - val_accuracy: 0.0433\n",
      "Epoch 14/20\n",
      "119/119 [==============================] - 81s 677ms/step - loss: -6752492847104.0000 - accuracy: 0.0898 - val_loss: -9268873920512.0000 - val_accuracy: 0.0409\n",
      "Epoch 15/20\n",
      "119/119 [==============================] - 84s 705ms/step - loss: -9361748393984.0000 - accuracy: 0.0887 - val_loss: -12750875000832.0000 - val_accuracy: 0.0433\n",
      "Epoch 16/20\n",
      "119/119 [==============================] - 90s 756ms/step - loss: -12939868241920.0000 - accuracy: 0.0892 - val_loss: -17409774714880.0000 - val_accuracy: 0.0433\n",
      "Epoch 17/20\n",
      "119/119 [==============================] - 93s 776ms/step - loss: -17260580175872.0000 - accuracy: 0.0892 - val_loss: -23091853918208.0000 - val_accuracy: 0.0409\n",
      "Epoch 18/20\n",
      "119/119 [==============================] - 98s 824ms/step - loss: -22756238295040.0000 - accuracy: 0.0882 - val_loss: -30239392530432.0000 - val_accuracy: 0.0409\n",
      "Epoch 19/20\n",
      "119/119 [==============================] - 86s 719ms/step - loss: -29627919630336.0000 - accuracy: 0.0898 - val_loss: -39710063853568.0000 - val_accuracy: 0.0337\n",
      "Epoch 20/20\n",
      "119/119 [==============================] - 85s 715ms/step - loss: -37957406818304.0000 - accuracy: 0.0892 - val_loss: -49704045903872.0000 - val_accuracy: 0.0409\n"
     ]
    },
    {
     "data": {
      "text/plain": [
       "<keras.callbacks.History at 0x1d182432160>"
      ]
     },
     "execution_count": 64,
     "metadata": {},
     "output_type": "execute_result"
    }
   ],
   "source": [
    "train_datagen = ImageDataGenerator(\n",
    "\trescale=1. / 255,\n",
    "\tshear_range=0.2,\n",
    "\tzoom_range=0.2,\n",
    "\thorizontal_flip=True)\n",
    "\n",
    "test_datagen = ImageDataGenerator(rescale=1. / 255)\n",
    "\n",
    "train_generator = train_datagen.flow_from_directory(\n",
    "\ttrain_data_dir,\n",
    "\ttarget_size=(img_width, img_height),\n",
    "\tbatch_size=batch_size,\n",
    "\tclass_mode='binary')\n",
    "\n",
    "validation_generator = test_datagen.flow_from_directory(\n",
    "\tvalidation_data_dir,\n",
    "\ttarget_size=(img_width, img_height),\n",
    "\tbatch_size=batch_size,\n",
    "\tclass_mode='binary')\n",
    "\n",
    "model.fit_generator(\n",
    "\ttrain_generator,\n",
    "\tsteps_per_epoch=nb_train_samples // batch_size,\n",
    "\tepochs=epochs,\n",
    "\tvalidation_data=validation_generator,\n",
    "\tvalidation_steps=nb_validation_samples // batch_size)\n"
   ]
  },
  {
   "cell_type": "markdown",
   "metadata": {},
   "source": [
    "Save model"
   ]
  },
  {
   "cell_type": "code",
   "execution_count": 67,
   "metadata": {},
   "outputs": [],
   "source": [
    "model.save('model_saved.h5')\n"
   ]
  }
 ],
 "metadata": {
  "interpreter": {
   "hash": "df68dd4906030a7608973b723c94592c95636a373ebb062e1dbe7df60f905401"
  },
  "kernelspec": {
   "display_name": "Python 3.9.7 64-bit",
   "language": "python",
   "name": "python3"
  },
  "language_info": {
   "codemirror_mode": {
    "name": "ipython",
    "version": 3
   },
   "file_extension": ".py",
   "mimetype": "text/x-python",
   "name": "python",
   "nbconvert_exporter": "python",
   "pygments_lexer": "ipython3",
   "version": "3.9.7"
  },
  "orig_nbformat": 4
 },
 "nbformat": 4,
 "nbformat_minor": 2
}
