{
 "cells": [
  {
   "cell_type": "markdown",
   "metadata": {},
   "source": [
    "Predict"
   ]
  },
  {
   "cell_type": "code",
   "execution_count": null,
   "metadata": {},
   "outputs": [],
   "source": [
    "def predictor(img, model):\n",
    "    image = cv2.imread(img)\n",
    "    image = cv2.cvtColor(image, cv2.COLOR_BGR2RGB)\n",
    "    image = cv2.resize(image, (224, 224))\n",
    "    image = np.array(image, dtype = 'float32')/255.0\n",
    "    plt.imshow(image)\n",
    "    image = image.reshape(1, 224,224,3)\n",
    "    \n",
    "    label_names = train_ds.class_indices\n",
    "    dict_class = dict(zip(list(range(len(label_names))), label_names))\n",
    "    clas = model.predict(image).argmax()\n",
    "    name = dict_class[clas]\n",
    "    print('The given image is of \\nClass: {0} \\nShape: {1}'.format(clas, name))"
   ]
  },
  {
   "cell_type": "code",
   "execution_count": null,
   "metadata": {},
   "outputs": [],
   "source": [
    "predictor('test.jpg', res_model)"
   ]
  }
 ],
 "metadata": {
  "interpreter": {
   "hash": "df68dd4906030a7608973b723c94592c95636a373ebb062e1dbe7df60f905401"
  },
  "kernelspec": {
   "display_name": "Python 3.9.7 64-bit",
   "language": "python",
   "name": "python3"
  },
  "language_info": {
   "name": "python",
   "version": "3.9.7"
  },
  "orig_nbformat": 4
 },
 "nbformat": 4,
 "nbformat_minor": 2
}
